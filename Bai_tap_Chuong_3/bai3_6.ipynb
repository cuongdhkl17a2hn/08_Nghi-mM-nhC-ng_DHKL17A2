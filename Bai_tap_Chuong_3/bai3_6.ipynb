{
 "cells": [
  {
   "cell_type": "code",
   "execution_count": null,
   "metadata": {},
   "outputs": [],
   "source": [
    "#1\n",
    "import numpy as np\n",
    "\n",
    "arr = np.full((3, 3), True, dtype=bool)\n",
    "print(\"Mảng arr (3x3 với giá trị True):\\n\", arr)"
   ]
  },
  {
   "cell_type": "code",
   "execution_count": null,
   "metadata": {},
   "outputs": [],
   "source": [
    "#2\n",
    "arr_ID = np.array([0, 1, 2, 3, 4, 5, 6, 7, 8])\n",
    "arr_2D = arr_ID.reshape(3, 3)\n",
    "arr_2D[:, [0, 2]] = arr_2D[:, [2, 0]]  # Đổi cột 1 và cột 3\n",
    "print(\"Mảng arr_2D sau khi chuyển cột 1 và cột 3:\\n\", arr_2D)"
   ]
  },
  {
   "cell_type": "code",
   "execution_count": null,
   "metadata": {},
   "outputs": [],
   "source": [
    "#3\n",
    "arr_2D[[0, 1]] = arr_2D[[1, 0]]  # Đổi dòng 1 và dòng 2\n",
    "print(\"Mảng arr_2D sau khi chuyển dòng 1 và dòng 2:\\n\", arr_2D)"
   ]
  },
  {
   "cell_type": "code",
   "execution_count": null,
   "metadata": {},
   "outputs": [],
   "source": [
    "#4\n",
    "arr_2D = arr_2D[::-1]\n",
    "print(\"Mảng arr_2D sau khi đảo ngược các dòng:\\n\", arr_2D)"
   ]
  },
  {
   "cell_type": "code",
   "execution_count": null,
   "metadata": {},
   "outputs": [],
   "source": [
    "#5\n",
    "arr_2D = arr_2D[:, ::-1]\n",
    "print(\"Mảng arr_2D sau khi đảo ngược các cột:\\n\", arr_2D)"
   ]
  },
  {
   "cell_type": "code",
   "execution_count": null,
   "metadata": {},
   "outputs": [],
   "source": [
    "#6\n",
    "arr_2D_null = np.array([[1, 2, 3], [np.NaN, 5, 6], [7, np.NaN, 9], [4, 5, 6]])\n",
    "has_nan = np.isnan(arr_2D_null).any()\n",
    "print(\"Mảng arr_2D_null có giá trị rỗng không?\", has_nan)"
   ]
  },
  {
   "cell_type": "code",
   "execution_count": null,
   "metadata": {},
   "outputs": [],
   "source": [
    "#7\n",
    "arr_2D_null = np.nan_to_num(arr_2D_null, nan=0)\n",
    "print(\"Mảng arr_2D_null sau khi thay thế giá trị rỗng bằng 0:\\n\", arr_2D_null)"
   ]
  }
 ],
 "metadata": {
  "language_info": {
   "name": "python"
  }
 },
 "nbformat": 4,
 "nbformat_minor": 2
}
