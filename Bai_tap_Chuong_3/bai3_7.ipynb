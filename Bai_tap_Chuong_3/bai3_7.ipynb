{
 "cells": [
  {
   "cell_type": "code",
   "execution_count": null,
   "metadata": {},
   "outputs": [],
   "source": [
    "import numpy as np\n",
    "\n",
    "baseball = []\n",
    "with open('baseball_2D.txt', 'r') as file:\n",
    "    for line in file:\n",
    "        values = line.strip().split()  \n",
    "        baseball.append([float(values[0]), float(values[1])])  "
   ]
  },
  {
   "cell_type": "code",
   "execution_count": null,
   "metadata": {},
   "outputs": [],
   "source": [
    "#1\n",
    "np_baseball = np.array(baseball)\n",
    "print(\"Kiểu dữ liệu của np_baseball:\", np_baseball.dtype)\n",
    "print(\"Kích thước của np_baseball:\", np_baseball.shape)"
   ]
  },
  {
   "cell_type": "code",
   "execution_count": null,
   "metadata": {},
   "outputs": [],
   "source": [
    "#2\n",
    "print(\"Dòng thứ 50 trong np_baseball:\", np_baseball[49])"
   ]
  },
  {
   "cell_type": "code",
   "execution_count": null,
   "metadata": {},
   "outputs": [],
   "source": [
    "#3\n",
    "np_weight = np_baseball[:, 1]\n",
    "print(\"Mảng np_weight (cân nặng của các cầu thủ):\", np_weight)"
   ]
  },
  {
   "cell_type": "code",
   "execution_count": null,
   "metadata": {},
   "outputs": [],
   "source": [
    "#4\n",
    "height_124 = np_baseball[123, 0]  # Dòng 124, cột 1 là chiều cao\n",
    "print(\"Chiều cao của vận động viên thứ 124:\", height_124)"
   ]
  },
  {
   "cell_type": "code",
   "execution_count": null,
   "metadata": {},
   "outputs": [],
   "source": [
    "#5\n",
    "average_height = np.mean(np_baseball[:, 0])\n",
    "average_weight = np.mean(np_baseball[:, 1])\n",
    "print(\"Chiều cao trung bình của các cầu thủ:\", average_height)\n",
    "print(\"Cân nặng trung bình của các cầu thủ:\", average_weight)"
   ]
  },
  {
   "cell_type": "code",
   "execution_count": null,
   "metadata": {},
   "outputs": [],
   "source": [
    "#6\n",
    "correlation = np.corrcoef(np_baseball[:, 0], np_baseball[:, 1])[0, 1]\n",
    "print(\"Hệ số tương quan giữa chiều cao và cân nặng:\", correlation)\n",
    "if correlation > 0:\n",
    "    print(\"Có mối tương quan thuận giữa chiều cao và cân nặng: chiều cao tăng, cân nặng cũng tăng.\")\n",
    "elif correlation < 0:\n",
    "    print(\"Có mối tương quan nghịch giữa chiều cao và cân nặng: chiều cao tăng, cân nặng giảm.\")\n",
    "else:\n",
    "    print(\"Không có mối tương quan giữa chiều cao và cân nặng.\")"
   ]
  }
 ],
 "metadata": {
  "language_info": {
   "name": "python"
  }
 },
 "nbformat": 4,
 "nbformat_minor": 2
}
