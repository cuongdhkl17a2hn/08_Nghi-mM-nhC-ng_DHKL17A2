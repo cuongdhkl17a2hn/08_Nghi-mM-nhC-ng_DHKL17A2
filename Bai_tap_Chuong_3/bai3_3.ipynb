{
 "cells": [
  {
   "cell_type": "code",
   "execution_count": null,
   "metadata": {},
   "outputs": [],
   "source": [
    "import numpy as np\n",
    "\n",
    "arr_a = np.array([1, 2, 3, 2, 3, 4, 3, 4, 5, 6])\n",
    "arr_b = np.array([7, 2, 10, 2, 7, 4, 9, 4, 9, 8])"
   ]
  },
  {
   "cell_type": "code",
   "execution_count": null,
   "metadata": {},
   "outputs": [],
   "source": [
    "#1\n",
    "arr_c = np.intersect1d(arr_a, arr_b)\n",
    "print(\"Mảng arr_c (các phần tử xuất hiện ở cả arr_a và arr_b):\", arr_c)"
   ]
  },
  {
   "cell_type": "code",
   "execution_count": null,
   "metadata": {},
   "outputs": [],
   "source": [
    "#2\n",
    "arr_d = np.setdiff1d(arr_a, arr_b)\n",
    "print(\"Mảng arr_d (các phần tử chỉ xuất hiện ở arr_a):\", arr_d)"
   ]
  },
  {
   "cell_type": "code",
   "execution_count": null,
   "metadata": {},
   "outputs": [],
   "source": [
    "#3\n",
    "arr_e = np.array([2, 6, 1, 9, 10, 3, 27, 8, 6, 25, 16])\n",
    "arr_f = arr_e[(arr_e >= 5) & (arr_e <= 10)]\n",
    "print(\"Mảng arr_f (các phần tử từ 5 đến 10 trong arr_e):\", arr_f)"
   ]
  }
 ],
 "metadata": {
  "language_info": {
   "name": "python"
  }
 },
 "nbformat": 4,
 "nbformat_minor": 2
}
