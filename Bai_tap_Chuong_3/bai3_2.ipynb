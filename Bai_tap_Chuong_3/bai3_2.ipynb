{
 "cells": [
  {
   "cell_type": "code",
   "execution_count": 1,
   "metadata": {},
   "outputs": [
    {
     "name": "stdout",
     "output_type": "stream",
     "text": [
      "Mảng arr: [0 1 2 3 4 5 6 7 8 9]\n",
      "Kiểu dữ liệu của arr: int64\n",
      "Kích thước của arr: 10\n"
     ]
    }
   ],
   "source": [
    "#1\n",
    "import numpy as np\n",
    "\n",
    "arr = np.arange(10)\n",
    "print(\"Mảng arr:\", arr)\n",
    "print(\"Kiểu dữ liệu của arr:\", arr.dtype)\n",
    "print(\"Kích thước của arr:\", arr.size)"
   ]
  },
  {
   "cell_type": "code",
   "execution_count": null,
   "metadata": {},
   "outputs": [],
   "source": [
    "#2\n",
    "\n",
    "arr_odd = arr[arr % 2 != 0]\n",
    "arr_even = arr[arr % 2 == 0]\n",
    "print(\"Mảng arr_odd (các phần tử lẻ):\", arr_odd)\n",
    "print(\"Mảng arr_even (các phần tử chẵn):\", arr_even)"
   ]
  },
  {
   "cell_type": "code",
   "execution_count": null,
   "metadata": {},
   "outputs": [],
   "source": [
    "#3\n",
    "\n",
    "arr_update_1 = np.where(arr % 2 != 0, 100, arr)\n",
    "print(\"Mảng arr_update_1 (các phần tử lẻ được thay bằng 100):\", arr_update_1)"
   ]
  }
 ],
 "metadata": {
  "kernelspec": {
   "display_name": "Python 3",
   "language": "python",
   "name": "python3"
  },
  "language_info": {
   "codemirror_mode": {
    "name": "ipython",
    "version": 3
   },
   "file_extension": ".py",
   "mimetype": "text/x-python",
   "name": "python",
   "nbconvert_exporter": "python",
   "pygments_lexer": "ipython3",
   "version": "3.12.0"
  }
 },
 "nbformat": 4,
 "nbformat_minor": 2
}
