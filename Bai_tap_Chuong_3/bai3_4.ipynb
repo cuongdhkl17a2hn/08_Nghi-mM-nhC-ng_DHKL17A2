{
 "cells": [
  {
   "cell_type": "code",
   "execution_count": null,
   "metadata": {},
   "outputs": [],
   "source": [
    "import numpy as np\n",
    "#1\n",
    "arr_zeros = np.zeros(10, dtype=int)\n",
    "arr_zeros[4] = 1  \n",
    "print(\"Mảng arr_zeros sau khi cập nhật:\", arr_zeros)"
   ]
  },
  {
   "cell_type": "code",
   "execution_count": null,
   "metadata": {},
   "outputs": [],
   "source": [
    "#2\n",
    "arr_h = np.arange(10, 25)\n",
    "print(\"Mảng arr_h theo thứ tự đảo ngược:\", arr_h[::-1])"
   ]
  },
  {
   "cell_type": "code",
   "execution_count": null,
   "metadata": {},
   "outputs": [],
   "source": [
    "#3\n",
    "arr_k = np.array([1, 2, 0, 8, 2, 0, 1, 3, 0, 5, 0])\n",
    "arr_1 = arr_k[arr_k != 0]\n",
    "print(\"Mảng arr_1 (các phần tử khác 0 trong arr_k):\", arr_1)"
   ]
  },
  {
   "cell_type": "code",
   "execution_count": null,
   "metadata": {},
   "outputs": [],
   "source": [
    "#4\n",
    "arr_1 = np.append(arr_1, [10, 20])\n",
    "print(\"Mảng arr_1 sau khi thêm 10 và 20:\", arr_1)"
   ]
  },
  {
   "cell_type": "code",
   "execution_count": null,
   "metadata": {},
   "outputs": [],
   "source": [
    "#5\n",
    "arr_1 = np.insert(arr_1, 5, 100)\n",
    "print(\"Mảng arr_1 sau khi thêm 100 vào vị trí index 5:\", arr_1)"
   ]
  },
  {
   "cell_type": "code",
   "execution_count": null,
   "metadata": {},
   "outputs": [],
   "source": [
    "#6\n",
    "arr_1 = np.delete(arr_1, [0, 1, 2])\n",
    "print(\"Mảng arr_1 sau khi xóa các phần tử tại vị trí index 0, 1, 2:\", arr_1)"
   ]
  }
 ],
 "metadata": {
  "language_info": {
   "name": "python"
  }
 },
 "nbformat": 4,
 "nbformat_minor": 2
}
