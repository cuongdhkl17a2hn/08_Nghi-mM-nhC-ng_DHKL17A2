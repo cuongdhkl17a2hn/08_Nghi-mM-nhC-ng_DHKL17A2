{
 "cells": [
  {
   "cell_type": "code",
   "execution_count": 2,
   "metadata": {},
   "outputs": [
    {
     "name": "stdout",
     "output_type": "stream",
     "text": [
      "Product: Đường, Price: 500, Quantity:50\n",
      "Product: Sữa, Price: 200, Quantity:30\n"
     ]
    },
    {
     "name": "stderr",
     "output_type": "stream",
     "text": [
      "<>:17: SyntaxWarning: invalid escape sequence '\\G'\n",
      "<>:17: SyntaxWarning: invalid escape sequence '\\G'\n",
      "C:\\Users\\rigby\\AppData\\Local\\Temp\\ipykernel_9944\\3064187673.py:17: SyntaxWarning: invalid escape sequence '\\G'\n",
      "  path='E:\\GITHUB\\lap_1\\products.xml'\n",
      "C:\\Users\\rigby\\AppData\\Local\\Temp\\ipykernel_9944\\3064187673.py:10: DeprecationWarning: Testing an element's truth value will raise an exception in future versions.  Use specific 'len(elem)' or 'elem is not None' test instead.\n",
      "  if self.data:\n"
     ]
    }
   ],
   "source": [
    "import xml.etree.ElementTree as ET\n",
    "class XMLReader:\n",
    "    def __init__(self, file_path):\n",
    "        self.file_path = file_path\n",
    "        self.data = None\n",
    "    def read_xml(self):\n",
    "        tree = ET.parse(self.file_path)\n",
    "        self.data = tree.getroot()\n",
    "    def display_data(self):\n",
    "        if self.data:\n",
    "            for product in self.data.findall('product'):\n",
    "                name = product.find('name').text\n",
    "                price = product.find('price').text\n",
    "                quantity = product.find('quantity').text\n",
    "                print(f\"Product: {name}, Price: {price}, Quantity:{quantity}\")\n",
    "# Sử dụng lớp XMLReader\n",
    "path='E:\\GITHUB\\lap_1\\products.xml'\n",
    "reader = XMLReader(path)\n",
    "reader.read_xml()\n",
    "reader.display_data()\n"
   ]
  }
 ],
 "metadata": {
  "kernelspec": {
   "display_name": "Python 3",
   "language": "python",
   "name": "python3"
  },
  "language_info": {
   "codemirror_mode": {
    "name": "ipython",
    "version": 3
   },
   "file_extension": ".py",
   "mimetype": "text/x-python",
   "name": "python",
   "nbconvert_exporter": "python",
   "pygments_lexer": "ipython3",
   "version": "3.12.0"
  }
 },
 "nbformat": 4,
 "nbformat_minor": 2
}
