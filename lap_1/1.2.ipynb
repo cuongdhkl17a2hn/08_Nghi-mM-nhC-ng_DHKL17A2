{
 "cells": [
  {
   "cell_type": "code",
   "execution_count": 17,
   "metadata": {},
   "outputs": [
    {
     "ename": "SyntaxError",
     "evalue": "(unicode error) 'unicodeescape' codec can't decode bytes in position 15-16: truncated \\uXXXX escape (2530245883.py, line 15)",
     "output_type": "error",
     "traceback": [
      "\u001b[1;36m  Cell \u001b[1;32mIn[17], line 15\u001b[1;36m\u001b[0m\n\u001b[1;33m    path ='E:\\GITHUB\\lap_1\\users.json'\u001b[0m\n\u001b[1;37m          ^\u001b[0m\n\u001b[1;31mSyntaxError\u001b[0m\u001b[1;31m:\u001b[0m (unicode error) 'unicodeescape' codec can't decode bytes in position 15-16: truncated \\uXXXX escape\n"
     ]
    }
   ],
   "source": [
    "import json\n",
    "class JSONReader:\n",
    "    def __init__(self, file_path):\n",
    "        self.file_path = file_path\n",
    "        self.data = None\n",
    "    def read_json(self):\n",
    "        with open(self.file_path, 'r') as file:\n",
    "            self.data = json.load(file)\n",
    "    def display_data(self):\n",
    "        if self.data:\n",
    "            for user in self.data:\n",
    "                print(f\"Name: {user['name']}, Age: {user['age']}, \\\n",
    "                       Address:{user['address']}\")\n",
    "# Sử dụng lớp JSONReader\n",
    "path ='E:\\GITHUB\\lap_1\\users.json'\n",
    "reader = JSONReader(path)\n",
    "reader.read_json()\n",
    "reader.display_data()"
   ]
  }
 ],
 "metadata": {
  "kernelspec": {
   "display_name": "Python 3",
   "language": "python",
   "name": "python3"
  },
  "language_info": {
   "codemirror_mode": {
    "name": "ipython",
    "version": 3
   },
   "file_extension": ".py",
   "mimetype": "text/x-python",
   "name": "python",
   "nbconvert_exporter": "python",
   "pygments_lexer": "ipython3",
   "version": "3.12.0"
  }
 },
 "nbformat": 4,
 "nbformat_minor": 2
}
