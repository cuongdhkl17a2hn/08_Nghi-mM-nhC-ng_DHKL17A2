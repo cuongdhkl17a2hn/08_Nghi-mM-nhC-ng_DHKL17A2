{
 "cells": [
  {
   "cell_type": "code",
   "execution_count": 10,
   "metadata": {},
   "outputs": [],
   "source": [
    "import tkinter as tk\n",
    "from PIL import Image, ImageTk  # Cần thư viện Pillow để xử lý ảnh\n",
    "\n",
    "# Tạo cửa sổ chính\n",
    "cua_so = tk.Tk()\n",
    "cua_so.title(\"Hiển thị Hình ảnh\")\n",
    "\n",
    "# Đọc và hiển thị ảnh\n",
    "try:\n",
    "    # Mở file ảnh Otto.png\n",
    "    anh = Image.open(\"Otto.png\")\n",
    "    # Chuyển đổi ảnh sang định dạng hiển thị trong Tkinter\n",
    "    anh_tk = ImageTk.PhotoImage(anh)\n",
    "\n",
    "    # Tạo một nhãn để chứa hình ảnh\n",
    "    nhan_anh = tk.Label(cua_so, image=anh_tk)\n",
    "    nhan_anh.image = anh_tk  # Giữ tham chiếu ảnh\n",
    "    nhan_anh.pack()\n",
    "except FileNotFoundError:\n",
    "    # Thông báo nếu không tìm thấy ảnh\n",
    "    nhan_loi = tk.Label(cua_so, text=\"Không tìm thấy file Otto.png!\")\n",
    "    nhan_loi.pack()\n",
    "\n",
    "# Chạy vòng lặp sự kiện\n",
    "cua_so.mainloop()"
   ]
  },
  {
   "cell_type": "markdown",
   "metadata": {},
   "source": [
    "1"
   ]
  },
  {
   "cell_type": "code",
   "execution_count": 13,
   "metadata": {},
   "outputs": [],
   "source": [
    "import tkinter as tk\n",
    "from PIL import Image, ImageTk\n",
    "\n",
    "# Tạo cửa sổ chính\n",
    "cua_so = tk.Tk()\n",
    "cua_so.title(\"Chương trình xem ảnh\")\n",
    "\n",
    "# Đường dẫn tới file ảnh (thay thế bằng file bạn muốn hiển thị)\n",
    "duong_dan_anh = \"Otto.jpg\"  # Bạn có thể thay bằng file .png, .gif, .jpg, v.v.\n",
    "\n",
    "try:\n",
    "    # Mở file ảnh\n",
    "    anh = Image.open(duong_dan_anh)\n",
    "    # Chuyển đổi ảnh sang định dạng hiển thị trong Tkinter\n",
    "    anh_tk = ImageTk.PhotoImage(anh)\n",
    "\n",
    "    # Tạo nhãn để hiển thị ảnh\n",
    "    nhan_anh = tk.Label(cua_so, image=anh_tk)\n",
    "    nhan_anh.image = anh_tk  # Giữ tham chiếu tới ảnh\n",
    "    nhan_anh.pack()\n",
    "except FileNotFoundError:\n",
    "    # Thông báo nếu không tìm thấy ảnh\n",
    "    nhan_loi = tk.Label(cua_so, text=f\"Không tìm thấy file ảnh: {duong_dan_anh}\")\n",
    "    nhan_loi.pack()\n",
    "except Exception as e:\n",
    "    # Xử lý lỗi khác\n",
    "    nhan_loi = tk.Label(cua_so, text=f\"Đã xảy ra lỗi: {e}\")\n",
    "    nhan_loi.pack()\n",
    "\n",
    "# Chạy vòng lặp sự kiện\n",
    "cua_so.mainloop()"
   ]
  },
  {
   "cell_type": "markdown",
   "metadata": {},
   "source": [
    "2"
   ]
  },
  {
   "cell_type": "code",
   "execution_count": 12,
   "metadata": {},
   "outputs": [],
   "source": [
    "import tkinter as tk\n",
    "from PIL import Image, ImageTk\n",
    "import requests\n",
    "from io import BytesIO\n",
    "\n",
    "# Tạo cửa sổ chính\n",
    "cua_so = tk.Tk()\n",
    "cua_so.title(\"Hiển thị Hình ảnh từ URL\")\n",
    "\n",
    "# URL ảnh (thay thế bằng URL ảnh bạn muốn tải)\n",
    "url_anh = \"https://upload.wikimedia.org/wikipedia/commons/3/3f/Example_image.jpg\"\n",
    "\n",
    "try:\n",
    "    # Tải ảnh từ URL\n",
    "    phan_hoi = requests.get(url_anh)\n",
    "    phan_hoi.raise_for_status()  # Kiểm tra lỗi tải ảnh\n",
    "\n",
    "    # Chuyển đổi ảnh tải về sang định dạng phù hợp với Pillow\n",
    "    anh = Image.open(BytesIO(phan_hoi.content))\n",
    "    anh_tk = ImageTk.PhotoImage(anh)\n",
    "\n",
    "    # Tạo nhãn để hiển thị ảnh\n",
    "    nhan_anh = tk.Label(cua_so, image=anh_tk)\n",
    "    nhan_anh.image = anh_tk  # Giữ tham chiếu ảnh\n",
    "    nhan_anh.pack()\n",
    "except requests.exceptions.RequestException as e:\n",
    "    # Thông báo lỗi nếu không tải được ảnh\n",
    "    nhan_loi = tk.Label(cua_so, text=f\"Lỗi khi tải ảnh: {e}\")\n",
    "    nhan_loi.pack()\n",
    "except Exception as e:\n",
    "    # Xử lý lỗi khác\n",
    "    nhan_loi = tk.Label(cua_so, text=f\"Đã xảy ra lỗi: {e}\")\n",
    "    nhan_loi.pack()\n",
    "\n",
    "# Chạy vòng lặp sự kiện\n",
    "cua_so.mainloop()"
   ]
  }
 ],
 "metadata": {
  "kernelspec": {
   "display_name": "Python 3",
   "language": "python",
   "name": "python3"
  },
  "language_info": {
   "codemirror_mode": {
    "name": "ipython",
    "version": 3
   },
   "file_extension": ".py",
   "mimetype": "text/x-python",
   "name": "python",
   "nbconvert_exporter": "python",
   "pygments_lexer": "ipython3",
   "version": "3.12.0"
  }
 },
 "nbformat": 4,
 "nbformat_minor": 2
}
