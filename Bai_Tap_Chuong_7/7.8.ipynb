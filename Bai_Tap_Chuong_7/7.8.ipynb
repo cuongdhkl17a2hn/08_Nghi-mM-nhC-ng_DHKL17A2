{
 "cells": [
  {
   "cell_type": "code",
   "execution_count": null,
   "metadata": {},
   "outputs": [],
   "source": [
    "# Nhập số nguyên N từ bàn phím\n",
    "N = int(input(\"Nhập số nguyên N: \"))\n",
    "\n",
    "# Tìm và liệt kê tất cả các ước của N\n",
    "uocs = []\n",
    "for i in range(1, N + 1):\n",
    "    if N % i == 0:\n",
    "        uocs.append(i)\n",
    "\n",
    "# Hiển thị các ước của N\n",
    "print(f\"Các ước của số {N} là:\", uocs)"
   ]
  },
  {
   "cell_type": "code",
   "execution_count": null,
   "metadata": {},
   "outputs": [],
   "source": [
    "import tkinter as tk\n",
    "from tkinter import messagebox\n",
    "\n",
    "# Hàm để liệt kê các ước của số N\n",
    "def liet_ke_uoc():\n",
    "    try:\n",
    "        # Lấy số nguyên N từ người dùng\n",
    "        N = int(entry.get())\n",
    "        if N <= 0:\n",
    "            raise ValueError(\"Số N phải là số nguyên dương.\")\n",
    "        \n",
    "        # Tìm tất cả các ước của N\n",
    "        uocs = []\n",
    "        for i in range(1, N + 1):\n",
    "            if N % i == 0:\n",
    "                uocs.append(i)\n",
    "        \n",
    "        # Hiển thị các ước trong cửa sổ\n",
    "        uoc_string = \"Các ước của số {} là: {}\".format(N, \", \".join(map(str, uocs)))\n",
    "        messagebox.showinfo(\"Các ước của N\", uoc_string)\n",
    "    \n",
    "    except ValueError as ve:\n",
    "        messagebox.showerror(\"Lỗi\", str(ve))\n",
    "    except Exception as e:\n",
    "        messagebox.showerror(\"Lỗi\", \"Đã xảy ra lỗi: \" + str(e))\n",
    "\n",
    "# Tạo cửa sổ chính\n",
    "root = tk.Tk()\n",
    "root.title(\"Liệt kê các ước của N\")\n",
    "\n",
    "# Tạo nhãn hướng dẫn\n",
    "label = tk.Label(root, text=\"Nhập một số nguyên N:\")\n",
    "label.pack(pady=10)\n",
    "\n",
    "# Tạo ô nhập liệu\n",
    "entry = tk.Entry(root)\n",
    "entry.pack(pady=10)\n",
    "\n",
    "# Tạo nút để liệt kê các ước\n",
    "button = tk.Button(root, text=\"Liệt kê các ước\", command=liet_ke_uoc)\n",
    "button.pack(pady=20)\n",
    "\n",
    "# Chạy chương trình Tkinter\n",
    "root.mainloop()"
   ]
  }
 ],
 "metadata": {
  "kernelspec": {
   "display_name": "Python 3",
   "language": "python",
   "name": "python3"
  },
  "language_info": {
   "codemirror_mode": {
    "name": "ipython",
    "version": 3
   },
   "file_extension": ".py",
   "mimetype": "text/x-python",
   "name": "python",
   "nbconvert_exporter": "python",
   "pygments_lexer": "ipython3",
   "version": "3.12.0"
  }
 },
 "nbformat": 4,
 "nbformat_minor": 2
}
