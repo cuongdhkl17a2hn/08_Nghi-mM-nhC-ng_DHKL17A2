{
 "cells": [
  {
   "cell_type": "code",
   "execution_count": 1,
   "metadata": {},
   "outputs": [
    {
     "name": "stdout",
     "output_type": "stream",
     "text": [
      "Dữ liệu nhiệt độ trong tháng: [15.23 30.99 30.04 23.91 21.84 25.52 20.85 28.03 32.11 29.62 27.4  27.29\n",
      " 32.28 26.9  25.36 17.44 30.3  27.13 21.89 19.86 33.83 26.22 29.4  33.82\n",
      " 19.93 34.92 30.29 20.67 22.22 29.95]\n",
      "Nhiệt độ trung bình: 26.507999999999996\n"
     ]
    }
   ],
   "source": [
    "import numpy as np\n",
    "\n",
    "# Tạo mảng dữ liệu nhiệt độ cho 30 ngày\n",
    "nhiet_do = np.round(np.random.uniform(low=15, high=35, size=30), 2)\n",
    "\n",
    "# Tính nhiệt độ trung bình trong tháng\n",
    "nhiet_do_tb = np.mean(nhiet_do)\n",
    "\n",
    "print(\"Dữ liệu nhiệt độ trong tháng:\", nhiet_do)\n",
    "print(\"Nhiệt độ trung bình:\", nhiet_do_tb)"
   ]
  },
  {
   "cell_type": "code",
   "execution_count": 2,
   "metadata": {},
   "outputs": [
    {
     "name": "stdout",
     "output_type": "stream",
     "text": [
      "Ngày có nhiệt độ cao nhất: 26\n",
      "Ngày có nhiệt độ thấp nhất: 1\n",
      "Ngày có sự chênh lệch nhiệt độ cao nhất: 1\n"
     ]
    }
   ],
   "source": [
    "\n",
    "# Xác định ngày có nhiệt độ cao nhất, thấp nhất\n",
    "ngay_nhiet_do_cao_nhat = np.argmax(nhiet_do) + 1\n",
    "ngay_nhiet_do_thap_nhat = np.argmin(nhiet_do) + 1\n",
    "\n",
    "# Tính sự chênh lệch nhiệt độ giữa các ngày\n",
    "chenh_lech_nhiet_do = np.abs(np.diff(nhiet_do))\n",
    "ngay_chenh_lech_cao_nhat = np.argmax(chenh_lech_nhiet_do) + 1\n",
    "\n",
    "print(f\"Ngày có nhiệt độ cao nhất: {ngay_nhiet_do_cao_nhat}\")\n",
    "print(f\"Ngày có nhiệt độ thấp nhất: {ngay_nhiet_do_thap_nhat}\")\n",
    "print(f\"Ngày có sự chênh lệch nhiệt độ cao nhất: {ngay_chenh_lech_cao_nhat}\")"
   ]
  },
  {
   "cell_type": "code",
   "execution_count": 3,
   "metadata": {},
   "outputs": [
    {
     "name": "stdout",
     "output_type": "stream",
     "text": [
      "Ngày có nhiệt độ cao hơn 20 độ C: [ 2  3  4  5  6  7  8  9 10 11 12 13 14 15 17 18 19 21 22 23 24 26 27 28\n",
      " 29 30]\n",
      "Nhiệt độ của các ngày 5, 10, 15, 20, 25: [21.84 29.62 25.36 19.86 19.93]\n",
      "Ngày có nhiệt độ trên trung bình: [ 2  3  8  9 10 11 12 13 14 17 18 21 23 24 26 27 30]\n",
      "Nhiệt độ ngày chẵn: [30.99 23.91 25.52 28.03 29.62 27.29 26.9  17.44 27.13 19.86 26.22 33.82\n",
      " 34.92 20.67 29.95]\n",
      "Nhiệt độ ngày lẻ: [15.23 30.04 21.84 20.85 32.11 27.4  32.28 25.36 30.3  21.89 33.83 29.4\n",
      " 19.93 30.29 22.22]\n"
     ]
    }
   ],
   "source": [
    "# Các ngày có nhiệt độ cao hơn 20 độ C\n",
    "ngay_nhiet_do_cao_hon_20 = np.where(nhiet_do > 20)[0] + 1\n",
    "\n",
    "# Nhiệt độ của các ngày 5, 10, 15, 20, 25\n",
    "nhiet_do_cac_ngay = nhiet_do[[4, 9, 14, 19, 24]]\n",
    "\n",
    "# Nhiệt độ của các ngày có nhiệt độ trên trung bình\n",
    "ngay_nhiet_do_tren_tb = np.where(nhiet_do > nhiet_do_tb)[0] + 1\n",
    "\n",
    "# Nhiệt độ của các ngày chẵn/lẻ\n",
    "nhiet_do_ngay_chan = nhiet_do[1::2]\n",
    "nhiet_do_ngay_le = nhiet_do[0::2]\n",
    "\n",
    "print(\"Ngày có nhiệt độ cao hơn 20 độ C:\", ngay_nhiet_do_cao_hon_20)\n",
    "print(\"Nhiệt độ của các ngày 5, 10, 15, 20, 25:\", nhiet_do_cac_ngay)\n",
    "print(\"Ngày có nhiệt độ trên trung bình:\", ngay_nhiet_do_tren_tb)\n",
    "print(\"Nhiệt độ ngày chẵn:\", nhiet_do_ngay_chan)\n",
    "print(\"Nhiệt độ ngày lẻ:\", nhiet_do_ngay_le)"
   ]
  },
  {
   "cell_type": "code",
   "execution_count": null,
   "metadata": {},
   "outputs": [],
   "source": []
  },
  {
   "cell_type": "code",
   "execution_count": null,
   "metadata": {},
   "outputs": [],
   "source": []
  },
  {
   "cell_type": "code",
   "execution_count": null,
   "metadata": {},
   "outputs": [],
   "source": []
  },
  {
   "cell_type": "code",
   "execution_count": null,
   "metadata": {},
   "outputs": [],
   "source": []
  },
  {
   "cell_type": "code",
   "execution_count": null,
   "metadata": {},
   "outputs": [],
   "source": []
  },
  {
   "cell_type": "code",
   "execution_count": null,
   "metadata": {},
   "outputs": [],
   "source": []
  }
 ],
 "metadata": {
  "kernelspec": {
   "display_name": "Python 3",
   "language": "python",
   "name": "python3"
  },
  "language_info": {
   "codemirror_mode": {
    "name": "ipython",
    "version": 3
   },
   "file_extension": ".py",
   "mimetype": "text/x-python",
   "name": "python",
   "nbconvert_exporter": "python",
   "pygments_lexer": "ipython3",
   "version": "3.12.0"
  }
 },
 "nbformat": 4,
 "nbformat_minor": 2
}
