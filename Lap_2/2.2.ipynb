{
 "cells": [
  {
   "cell_type": "code",
   "execution_count": 27,
   "metadata": {},
   "outputs": [
    {
     "name": "stdout",
     "output_type": "stream",
     "text": [
      "[['id', 'Tên sinh viên', 'HP 1', 'HP 2', 'HP 3'], ['1', 'Nguyễn Văn Bình', '3.04', '3.39', '6.7'], ['2', 'Lê Thị Na', '5.8', '6.41', '6.62'], ['3', 'Trần Văn Thành', '2.59', '3.57', '9.16'], ['4', 'Phạm Thị Hồng', '3.81', '8.78', '9.24'], ['5', 'Bùi Văn An', '8.91', '9.64', '6.39'], ['6', 'Hoàng Thị Lan', '3.23', '4.72', '6.17'], ['7', 'Vũ Văn Hùng', '2.35', '3.29', '6.89'], ['8', 'Đặng Thị Mai', '2.48', '3.81', '4.84'], ['9', 'Đỗ Văn Hải', '3.23', '2.61', '4.52'], ['10', 'Ngô Thị Thanh', '7.02', '9.01', '9.15'], ['11', 'Lương Văn Dũng', '2.29', '4.48', '5.51'], ['12', 'Mai Thị Hằng', '3.51', '7.19', '5.13'], ['13', 'Dương Văn Long', '6.74', '7.78', '6.19'], ['14', 'Nguyễn Thị Hà', '9.86', '4.64', '3.33'], ['15', 'Trần Văn Tuấn', '8.04', '5.12', '4.77'], ['16', 'Lê Văn Phúc', '2.74', '8.88', '5.8'], ['17', 'Phạm Thị Nhung', '3.04', '6.88', '3.91'], ['18', 'Hoàng Văn Nam', '5.87', '4.41', '8.84'], ['19', 'Bùi Thị Lan', '8.46', '2.63', '4.91'], ['20', 'Vũ Thị Thanh', '3.74', '6.71', '3.44'], ['21', 'Đặng Văn Hùng', '5.67', '8.05', '6.03'], ['22', 'Đỗ Thị Hồng', '8.12', '2.46', '3.87'], ['23', 'Ngô Văn Thành', '9.4', '5.31', '5.13'], ['24', 'Lương Thị Mai', '3.91', '5.09', '8.82'], ['25', 'Mai Văn Dũng', '4.26', '5.78', '8.14'], ['26', 'Dương Thị Hằng', '4.41', '2.66', '5.4'], ['27', 'Nguyễn Văn Long', '3.23', '8.3', '8.64'], ['28', 'Trần Thị Hà', '9.25', '8.29', '9.1'], ['29', 'Lê Văn Tuấn', '6.08', '2.67', '6.39'], ['30', 'Phạm Thị Phúc', '3.85', '7.71', '5.75']]\n",
      "(30, 5)\n"
     ]
    }
   ],
   "source": [
    "import numpy as np\n",
    "import csv\n",
    "\n",
    "#Đọc dữ liệu từ file CSV:\n",
    "filename = r'E:\\GITHUB\\Lap_2\\DATA\\diem_hoc_phan.csv'\n",
    "\n",
    "#Mở và đọc dữ liệu từ file CSV:\n",
    "with open(filename, newline='', encoding='utf-8') as csvfile:\n",
    "    reader = csv.reader(csvfile)\n",
    "    data = list(reader)\n",
    "\n",
    "#Hiển thị dữ liệu để kiểm tra:\n",
    "print(data[:31])\n",
    "\n",
    "#Chuyển đổi dữ liệu thành mảng NumPy (Bỏ qua header):\n",
    "header = data[0]\n",
    "data_np = np.array(data[1:], dtype=object)\n",
    "\n",
    "#Kiểm tra kiểu dữ liệu và kích thước mảng NumPy:\n",
    "print(data_np.shape)"
   ]
  },
  {
   "cell_type": "code",
   "execution_count": 28,
   "metadata": {},
   "outputs": [
    {
     "name": "stdout",
     "output_type": "stream",
     "text": [
      "\n",
      "Điểm HP1 sau quy đổi: ['F' 'C' 'F' 'F' 'A' 'F' 'F' 'F' 'F' 'B' 'F' 'F' 'C+' 'A' 'B+' 'F' 'F' 'C'\n",
      " 'B+' 'F' 'C' 'B+' 'A' 'F' 'D' 'D' 'F' 'A' 'C' 'F']\n",
      "Điểm HP2 sau quy đổi: ['F' 'C' 'F' 'A' 'A' 'D' 'F' 'F' 'F' 'A' 'D' 'B' 'B' 'D' 'D+' 'A' 'C+' 'D'\n",
      " 'F' 'C+' 'B+' 'F' 'D+' 'D+' 'C' 'F' 'B+' 'B+' 'F' 'B']\n",
      "Điểm HP3 sau quy đổi: ['C+' 'C+' 'A' 'A' 'C' 'C' 'C+' 'D' 'D' 'A' 'C' 'D+' 'C' 'F' 'D' 'C' 'F'\n",
      " 'A' 'D' 'F' 'C' 'F' 'D+' 'A' 'B+' 'D+' 'A' 'A' 'C' 'C']\n"
     ]
    }
   ],
   "source": [
    "# Hàm quy đổi điểm sang tín chỉ\n",
    "def quy_doi_diem(diem):\n",
    "    if 8.5 <= diem <= 10:\n",
    "        return 'A'\n",
    "    elif 8.0 <= diem < 8.5:\n",
    "        return 'B+'\n",
    "    elif 7.0 <= diem < 8.0:\n",
    "        return 'B'\n",
    "    elif 6.5 <= diem < 7.0:\n",
    "        return 'C+'\n",
    "    elif 5.5 <= diem < 6.5:\n",
    "        return 'C'\n",
    "    elif 5.0 <= diem < 5.5:\n",
    "        return 'D+'\n",
    "    elif 4.0 <= diem < 5.0:\n",
    "        return 'D'\n",
    "    else:\n",
    "        return 'F'\n",
    "\n",
    "# Áp dụng quy đổi cho từng học phần\n",
    "diem_quy_doi = np.vectorize(quy_doi_diem)\n",
    "\n",
    "# Chuyển đổi cột điểm sang kiểu float để áp dụng hàm\n",
    "hp1 = data_np[:, 2].astype(float)  # Cột HP1\n",
    "hp2 = data_np[:, 3].astype(float)  # Cột HP2\n",
    "hp3 = data_np[:, 4].astype(float)  # Cột HP3\n",
    "\n",
    "# Quy đổi\n",
    "hp1_quy_doi = diem_quy_doi(hp1)\n",
    "hp2_quy_doi = diem_quy_doi(hp2)\n",
    "hp3_quy_doi = diem_quy_doi(hp3)\n",
    "\n",
    "# Hiển thị kết quả quy đổi\n",
    "print(\"\\nĐiểm HP1 sau quy đổi:\", hp1_quy_doi)\n",
    "print(\"Điểm HP2 sau quy đổi:\", hp2_quy_doi)\n",
    "print(\"Điểm HP3 sau quy đổi:\", hp3_quy_doi)"
   ]
  },
  {
   "cell_type": "code",
   "execution_count": 29,
   "metadata": {},
   "outputs": [
    {
     "name": "stdout",
     "output_type": "stream",
     "text": [
      "\n",
      "Điểm HP1: [3.04 5.8  2.59 3.81 8.91 3.23 2.35 2.48 3.23 7.02 2.29 3.51 6.74 9.86\n",
      " 8.04 2.74 3.04 5.87 8.46 3.74 5.67 8.12 9.4  3.91 4.26 4.41 3.23 9.25\n",
      " 6.08 3.85]\n",
      "Điểm HP2: [3.39 6.41 3.57 8.78 9.64 4.72 3.29 3.81 2.61 9.01 4.48 7.19 7.78 4.64\n",
      " 5.12 8.88 6.88 4.41 2.63 6.71 8.05 2.46 5.31 5.09 5.78 2.66 8.3  8.29\n",
      " 2.67 7.71]\n",
      "Điểm HP3: [6.7  6.62 9.16 9.24 6.39 6.17 6.89 4.84 4.52 9.15 5.51 5.13 6.19 3.33\n",
      " 4.77 5.8  3.91 8.84 4.91 3.44 6.03 3.87 5.13 8.82 8.14 5.4  8.64 9.1\n",
      " 6.39 5.75]\n",
      "\n",
      "Phân tích HP1:\n",
      "Tổng điểm: 154.93\n",
      "Điểm trung bình: 5.16\n",
      "Độ lệch chuẩn: 2.41\n",
      "\n",
      "Phân tích HP2:\n",
      "Tổng điểm: 170.27\n",
      "Điểm trung bình: 5.68\n",
      "Độ lệch chuẩn: 2.25\n",
      "\n",
      "Phân tích HP3:\n",
      "Tổng điểm: 188.78\n",
      "Điểm trung bình: 6.29\n",
      "Độ lệch chuẩn: 1.81\n"
     ]
    }
   ],
   "source": [
    "# Chia tách dữ liệu theo học phần\n",
    "hp1_data = hp1\n",
    "hp2_data = hp2\n",
    "hp3_data = hp3\n",
    "\n",
    "# Hiển thị tổng quan điểm từng học phần\n",
    "print(\"\\nĐiểm HP1:\", hp1_data)\n",
    "print(\"Điểm HP2:\", hp2_data)\n",
    "print(\"Điểm HP3:\", hp3_data)\n",
    "\n",
    "# Tính tổng, trung bình và độ lệch chuẩn cho từng học phần\n",
    "for i, (hp_name, hp_scores) in enumerate(zip(['HP1', 'HP2', 'HP3'], [hp1_data, hp2_data, hp3_data])):\n",
    "    print(f\"\\nPhân tích {hp_name}:\")\n",
    "    print(f\"Tổng điểm: {np.sum(hp_scores):.2f}\")\n",
    "    print(f\"Điểm trung bình: {np.mean(hp_scores):.2f}\")\n",
    "    print(f\"Độ lệch chuẩn: {np.std(hp_scores):.2f}\")\n",
    "    "
   ]
  },
  {
   "cell_type": "code",
   "execution_count": 30,
   "metadata": {},
   "outputs": [
    {
     "name": "stdout",
     "output_type": "stream",
     "text": [
      "\n",
      "Phân tích tổng hợp điểm chữ:\n",
      "Loại A: 15 lần\n",
      "Loại B: 4 lần\n",
      "Loại B+: 7 lần\n",
      "Loại C: 14 lần\n",
      "Loại C+: 6 lần\n",
      "Loại D: 10 lần\n",
      "Loại D+: 6 lần\n",
      "Loại F: 28 lần\n"
     ]
    }
   ],
   "source": [
    "# Kết hợp điểm quy đổi từ cả 3 học phần\n",
    "diem_tong_hop = np.concatenate([hp1_quy_doi, hp2_quy_doi, hp3_quy_doi])\n",
    "\n",
    "# Đếm số lượng từng loại điểm chữ\n",
    "unique_grades, grade_counts = np.unique(diem_tong_hop, return_counts=True)\n",
    "\n",
    "# Hiển thị kết quả\n",
    "print(\"\\nPhân tích tổng hợp điểm chữ:\")\n",
    "for grade, count in zip(unique_grades, grade_counts):\n",
    "    print(f\"Loại {grade}: {count} lần\")"
   ]
  },
  {
   "cell_type": "code",
   "execution_count": null,
   "metadata": {},
   "outputs": [],
   "source": []
  },
  {
   "cell_type": "code",
   "execution_count": null,
   "metadata": {},
   "outputs": [],
   "source": []
  }
 ],
 "metadata": {
  "kernelspec": {
   "display_name": "Python 3",
   "language": "python",
   "name": "python3"
  },
  "language_info": {
   "codemirror_mode": {
    "name": "ipython",
    "version": 3
   },
   "file_extension": ".py",
   "mimetype": "text/x-python",
   "name": "python",
   "nbconvert_exporter": "python",
   "pygments_lexer": "ipython3",
   "version": "3.12.0"
  }
 },
 "nbformat": 4,
 "nbformat_minor": 2
}
