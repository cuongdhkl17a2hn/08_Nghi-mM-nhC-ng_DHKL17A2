{
 "cells": [
  {
   "cell_type": "code",
   "execution_count": 22,
   "metadata": {},
   "outputs": [],
   "source": [
    "import numpy as np\n",
    "import csv\n",
    "\n",
    "# Đọc dữ liệu từ file efficiency.txt (hiệu suất sản xuất)\n",
    "filename_efficiency = r'E:\\GITHUB\\Lap_2\\DATA\\efficiency.txt'\n",
    "filename_shifts = r'E:\\GITHUB\\Lap_2\\DATA\\shifts.txt'\n",
    "\n",
    "# Đọc dữ liệu từ file efficiency.txt\n",
    "with open(filename_efficiency, newline='', encoding='utf-8') as file_efficiency:\n",
    "    reader = csv.reader(file_efficiency)\n",
    "    du_lieu_efficiency = list(reader)  # Lưu dữ liệu vào list\n",
    "\n",
    "# Đọc dữ liệu từ file shifts.txt\n",
    "with open(filename_shifts, newline='', encoding='utf-8') as file_shifts:\n",
    "    reader = csv.reader(file_shifts)\n",
    "    du_lieu_shifts = list(reader)  # Lưu dữ liệu vào list\n",
    "\n"
   ]
  },
  {
   "cell_type": "code",
   "execution_count": 23,
   "metadata": {},
   "outputs": [
    {
     "name": "stdout",
     "output_type": "stream",
     "text": [
      "\n",
      "Mảng NumPy hiệu suất sản xuất:\n",
      "[[ 94.]\n",
      " [ 97.]\n",
      " [114.]\n",
      " [117.]\n",
      " [117.]]\n",
      "Kích thước mảng hiệu suất: (100, 1)\n",
      "\n",
      "Mảng NumPy ca làm việc:\n",
      "[['Afternoon']\n",
      " ['Afternoon']\n",
      " ['Afternoon']\n",
      " ['Morning']\n",
      " ['Afternoon']]\n",
      "Kích thước mảng ca làm việc: (100, 1)\n"
     ]
    }
   ],
   "source": [
    "# Chuyển dữ liệu thành mảng NumPy\n",
    "efficiency_np = np.array(du_lieu_efficiency, dtype=float)  # Hiệu suất sản xuất (số lượng sản phẩm hoàn thành)\n",
    "shifts_np = np.array(du_lieu_shifts, dtype=str)  # Ca làm việc (Morning, Afternoon, Night)\n",
    "\n",
    "# Kiểm tra kích thước và kiểu dữ liệu của các mảng NumPy\n",
    "print(\"\\nMảng NumPy hiệu suất sản xuất:\")\n",
    "print(efficiency_np[:5])  # Hiển thị 5 dòng đầu tiên\n",
    "print(f\"Kích thước mảng hiệu suất: {efficiency_np.shape}\")\n",
    "    \n",
    "print(\"\\nMảng NumPy ca làm việc:\")\n",
    "print(shifts_np[:5])  # Hiển thị 5 dòng đầu tiên\n",
    "print(f\"Kích thước mảng ca làm việc: {shifts_np.shape}\")"
   ]
  },
  {
   "cell_type": "code",
   "execution_count": 24,
   "metadata": {},
   "outputs": [
    {
     "name": "stdout",
     "output_type": "stream",
     "text": [
      "\n",
      "Dữ liệu gộp (Hiệu suất + Ca làm việc):\n",
      "[['94.0' 'Afternoon']\n",
      " ['97.0' 'Afternoon']\n",
      " ['114.0' 'Afternoon']\n",
      " ['117.0' 'Morning']\n",
      " ['117.0' 'Afternoon']]\n"
     ]
    }
   ],
   "source": [
    "# Gộp dữ liệu (Hiệu suất sản xuất + Ca làm việc)\n",
    "# Tạo một mảng dữ liệu kết hợp giữa hiệu suất sản xuất và ca làm việc\n",
    "du_lieu_cong_nhan = np.column_stack((efficiency_np, shifts_np[:, 0]))  # Lấy ca làm việc từ shifts_np và kết hợp\n",
    "\n",
    "# Hiển thị dữ liệu gộp\n",
    "print(\"\\nDữ liệu gộp (Hiệu suất + Ca làm việc):\")\n",
    "print(du_lieu_cong_nhan[:5])  # Hiển thị 5 dòng đầu tiên"
   ]
  },
  {
   "cell_type": "code",
   "execution_count": 25,
   "metadata": {},
   "outputs": [
    {
     "name": "stdout",
     "output_type": "stream",
     "text": [
      "\n",
      "Hiệu suất trung bình của các ca làm việc:\n",
      "Morning: 96.85\n",
      "Afternoon: 106.94\n",
      "Night: 91.86\n"
     ]
    }
   ],
   "source": [
    "# Phân tích cơ bản: Tính hiệu suất trung bình cho các ca làm việc\n",
    "morning_efficiency = du_lieu_cong_nhan[du_lieu_cong_nhan[:, 1] == 'Morning', 0].astype(float)\n",
    "afternoon_efficiency = du_lieu_cong_nhan[du_lieu_cong_nhan[:, 1] == 'Afternoon', 0].astype(float)\n",
    "night_efficiency = du_lieu_cong_nhan[du_lieu_cong_nhan[:, 1] == 'Night', 0].astype(float)\n",
    "\n",
    "# In ra hiệu suất trung bình cho các ca làm việc\n",
    "print(\"\\nHiệu suất trung bình của các ca làm việc:\")\n",
    "print(f\"Morning: {np.mean(morning_efficiency):.2f}\")\n",
    "print(f\"Afternoon: {np.mean(afternoon_efficiency):.2f}\")\n",
    "print(f\"Night: {np.mean(night_efficiency):.2f}\")"
   ]
  },
  {
   "cell_type": "code",
   "execution_count": null,
   "metadata": {},
   "outputs": [],
   "source": []
  },
  {
   "cell_type": "code",
   "execution_count": null,
   "metadata": {},
   "outputs": [],
   "source": []
  },
  {
   "cell_type": "code",
   "execution_count": null,
   "metadata": {},
   "outputs": [],
   "source": []
  }
 ],
 "metadata": {
  "kernelspec": {
   "display_name": "Python 3",
   "language": "python",
   "name": "python3"
  },
  "language_info": {
   "codemirror_mode": {
    "name": "ipython",
    "version": 3
   },
   "file_extension": ".py",
   "mimetype": "text/x-python",
   "name": "python",
   "nbconvert_exporter": "python",
   "pygments_lexer": "ipython3",
   "version": "3.12.0"
  }
 },
 "nbformat": 4,
 "nbformat_minor": 2
}
