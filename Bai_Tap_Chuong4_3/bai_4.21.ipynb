{
 "cells": [
  {
   "cell_type": "code",
   "execution_count": 2,
   "metadata": {},
   "outputs": [],
   "source": [
    "import pandas as pd"
   ]
  },
  {
   "cell_type": "code",
   "execution_count": 6,
   "metadata": {},
   "outputs": [],
   "source": [
    "# 1. Đọc dữ liệu từ tập tin drinks.csv với index_col là cột đầu tiên\n",
    "drink = pd.read_csv(\"drinks.csv\", index_col=0)"
   ]
  },
  {
   "cell_type": "code",
   "execution_count": 7,
   "metadata": {},
   "outputs": [
    {
     "name": "stdout",
     "output_type": "stream",
     "text": [
      "Type: <class 'pandas.core.frame.DataFrame'>\n",
      "Shape: (13, 5)\n"
     ]
    }
   ],
   "source": [
    "# Kiểu dữ liệu (type) và kích thước (shape) của drink\n",
    "print(\"Type:\", type(drink))\n",
    "print(\"Shape:\", drink.shape)"
   ]
  },
  {
   "cell_type": "code",
   "execution_count": 8,
   "metadata": {},
   "outputs": [
    {
     "name": "stdout",
     "output_type": "stream",
     "text": [
      "Columns: ['Châu lục', 'Bia tiêu thụ', 'Rượu vang tiêu thụ', 'Rượu mạnh tiêu thụ', 'Tổng lượng tiêu thụ']\n"
     ]
    }
   ],
   "source": [
    "# Hiển thị tên các cột (columns) của drink\n",
    "print(\"Columns:\", drink.columns.tolist())"
   ]
  },
  {
   "cell_type": "code",
   "execution_count": null,
   "metadata": {},
   "outputs": [],
   "source": [
    "# Xem 5 dòng đầu tiên (head) và 5 dòng cuối cùng (tail) của drink\n",
    "print(\"\\n5 dòng đầu tiên của drink:\")\n",
    "print(drink.head())\n",
    "print(\"\\n5 dòng cuối cùng của drink:\")\n",
    "print(drink.tail())"
   ]
  },
  {
   "cell_type": "code",
   "execution_count": null,
   "metadata": {},
   "outputs": [],
   "source": [
    "# 2. Số lượng bia tiêu thụ trung bình ở mỗi châu lục\n",
    "mean_beer_servings_by_continent = drink.groupby('continent')['beer_servings'].mean()\n",
    "print(\"\\nSố lượng bia tiêu thụ trung bình ở mỗi châu lục:\")\n",
    "print(mean_beer_servings_by_continent)"
   ]
  },
  {
   "cell_type": "code",
   "execution_count": null,
   "metadata": {},
   "outputs": [],
   "source": [
    "# 3. Thông tin thống kê tổng quát của số lượng rượu vang được tiêu thụ ở mỗi châu lục\n",
    "wine_consumption_stats = drink.groupby('continent')['wine_servings'].describe()\n",
    "print(\"\\nThông tin thống kê tổng quát số lượng rượu vang tiêu thụ ở mỗi châu lục:\")\n",
    "print(wine_consumption_stats)"
   ]
  },
  {
   "cell_type": "code",
   "execution_count": null,
   "metadata": {},
   "outputs": [],
   "source": [
    "# 4. Số lượng các loại bia và rượu tiêu thụ trung bình ở mỗi châu lục\n",
    "mean_beer_wine_by_continent = drink.groupby('continent')[['beer_servings', 'wine_servings']].mean()\n",
    "print(\"\\nSố lượng bia và rượu tiêu thụ trung bình ở mỗi châu lục:\")\n",
    "print(mean_beer_wine_by_continent)"
   ]
  },
  {
   "cell_type": "code",
   "execution_count": null,
   "metadata": {},
   "outputs": [],
   "source": [
    "# 5. Giá trị trung vị (median) của các loại bia và rượu tiêu thụ ở mỗi châu lục\n",
    "median_beer_wine_by_continent = drink.groupby('continent')[['beer_servings', 'wine_servings']].median()\n",
    "print(\"\\nTrung vị của bia và rượu tiêu thụ ở mỗi châu lục:\")\n",
    "print(median_beer_wine_by_continent)"
   ]
  },
  {
   "cell_type": "code",
   "execution_count": null,
   "metadata": {},
   "outputs": [],
   "source": [
    "# 6. Số lượng rượu mạnh tiêu thụ trung bình, lớn nhất và nhỏ nhất ở mỗi châu lục\n",
    "spirit_servings_stats = drink.groupby('continent')['spirit_servings'].agg(['mean', 'max', 'min'])\n",
    "print(\"\\nSố lượng rượu mạnh tiêu thụ trung bình, lớn nhất và nhỏ nhất ở mỗi châu lục:\")\n",
    "print(spirit_servings_stats)"
   ]
  },
  {
   "cell_type": "code",
   "execution_count": null,
   "metadata": {},
   "outputs": [],
   "source": [
    "\n",
    "# 7. Sắp xếp dữ liệu tăng dần theo số lượng bia tiêu thụ\n",
    "drink_sorted_by_beer = drink.sort_values(by='beer_servings')\n",
    "print(\"\\nDữ liệu sắp xếp tăng dần theo số lượng bia tiêu thụ:\")\n",
    "print(drink_sorted_by_beer)"
   ]
  },
  {
   "cell_type": "code",
   "execution_count": null,
   "metadata": {},
   "outputs": [],
   "source": [
    "# 8. 5 quốc gia có lượng tiêu thụ bia nhiều nhất\n",
    "top_5_beer_countries = drink.sort_values(by='beer_servings', ascending=False).head(5)\n",
    "print(\"\\n5 quốc gia có lượng tiêu thụ bia nhiều nhất:\")\n",
    "print(top_5_beer_countries[['beer_servings']])"
   ]
  },
  {
   "cell_type": "code",
   "execution_count": null,
   "metadata": {},
   "outputs": [],
   "source": [
    "# 9. 5 quốc gia có lượng tiêu thụ bia ít nhất\n",
    "bottom_5_beer_countries = drink.sort_values(by='beer_servings').head(5)\n",
    "print(\"\\n5 quốc gia có lượng tiêu thụ bia ít nhất:\")\n",
    "print(bottom_5_beer_countries[['beer_servings']])"
   ]
  }
 ],
 "metadata": {
  "kernelspec": {
   "display_name": "Python 3",
   "language": "python",
   "name": "python3"
  },
  "language_info": {
   "codemirror_mode": {
    "name": "ipython",
    "version": 3
   },
   "file_extension": ".py",
   "mimetype": "text/x-python",
   "name": "python",
   "nbconvert_exporter": "python",
   "pygments_lexer": "ipython3",
   "version": "3.12.0"
  }
 },
 "nbformat": 4,
 "nbformat_minor": 2
}
