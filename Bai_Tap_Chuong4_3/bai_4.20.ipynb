{
 "cells": [
  {
   "cell_type": "code",
   "execution_count": 1,
   "metadata": {},
   "outputs": [],
   "source": [
    "import pandas as pd"
   ]
  },
  {
   "cell_type": "code",
   "execution_count": 13,
   "metadata": {},
   "outputs": [],
   "source": [
    "# Đọc file euro12.csv \n",
    "euro12 = pd.read_csv(\"euro12.csv\")"
   ]
  },
  {
   "cell_type": "code",
   "execution_count": 14,
   "metadata": {},
   "outputs": [
    {
     "name": "stdout",
     "output_type": "stream",
     "text": [
      "Type: <class 'pandas.core.frame.DataFrame'>\n",
      "Shape: (16, 9)\n",
      "Danh sách các cột: ['Team', 'Goals', 'Yellow Cards', 'Red Cards', 'Shooting Accuracy', 'Pass Accuracy', 'Possession', 'Total Attempts', 'On-Target Attempts']\n"
     ]
    }
   ],
   "source": [
    "\n",
    "print(\"Type:\", type(euro12))\n",
    "print(\"Shape:\", euro12.shape)\n",
    "print(\"Danh sách các cột:\", euro12.columns.tolist())"
   ]
  },
  {
   "cell_type": "code",
   "execution_count": 15,
   "metadata": {},
   "outputs": [
    {
     "name": "stdout",
     "output_type": "stream",
     "text": [
      "\n",
      "Cột Goals:\n",
      "0      5\n",
      "1      3\n",
      "2     10\n",
      "3      5\n",
      "4      6\n",
      "5      2\n",
      "6      2\n",
      "7      6\n",
      "8      1\n",
      "9      5\n",
      "10    12\n",
      "11     5\n",
      "12     2\n",
      "13     4\n",
      "14     4\n",
      "15     4\n",
      "Name: Goals, dtype: int64\n"
     ]
    }
   ],
   "source": [
    "# 1. In giá trị cột Goals\n",
    "print(\"\\nCột Goals:\")\n",
    "print(euro12[\"Goals\"])"
   ]
  },
  {
   "cell_type": "code",
   "execution_count": 16,
   "metadata": {},
   "outputs": [
    {
     "name": "stdout",
     "output_type": "stream",
     "text": [
      "\n",
      "Số đội tham gia Euro2012: 16\n"
     ]
    }
   ],
   "source": [
    "# 2. Số đội tham gia Euro2012\n",
    "so_doi = euro12[\"Team\"].nunique()\n",
    "print(\"\\nSố đội tham gia Euro2012:\", so_doi)"
   ]
  },
  {
   "cell_type": "code",
   "execution_count": 17,
   "metadata": {},
   "outputs": [
    {
     "name": "stdout",
     "output_type": "stream",
     "text": [
      "\n",
      "Thông tin của Euro2012:\n",
      "<class 'pandas.core.frame.DataFrame'>\n",
      "RangeIndex: 16 entries, 0 to 15\n",
      "Data columns (total 9 columns):\n",
      " #   Column              Non-Null Count  Dtype \n",
      "---  ------              --------------  ----- \n",
      " 0   Team                16 non-null     object\n",
      " 1   Goals               16 non-null     int64 \n",
      " 2   Yellow Cards        16 non-null     int64 \n",
      " 3   Red Cards           16 non-null     int64 \n",
      " 4   Shooting Accuracy   16 non-null     object\n",
      " 5   Pass Accuracy       16 non-null     object\n",
      " 6   Possession          16 non-null     object\n",
      " 7   Total Attempts      16 non-null     int64 \n",
      " 8   On-Target Attempts  16 non-null     int64 \n",
      "dtypes: int64(5), object(4)\n",
      "memory usage: 1.3+ KB\n",
      "None\n"
     ]
    }
   ],
   "source": [
    "# 3. In thông tin của Euro2012\n",
    "print(\"\\nThông tin của Euro2012:\")\n",
    "print(euro12.info())"
   ]
  },
  {
   "cell_type": "code",
   "execution_count": 18,
   "metadata": {},
   "outputs": [
    {
     "name": "stdout",
     "output_type": "stream",
     "text": [
      "\n",
      "DataFrame discipline:\n",
      "                   Team  Yellow Cards  Red Cards\n",
      "0               England             6          0\n",
      "1                France             7          1\n",
      "2               Germany             4          0\n",
      "3                Greece             9          1\n",
      "4                 Italy            16          0\n",
      "5           Netherlands             5          0\n",
      "6                Poland             7          0\n",
      "7              Portugal            12          1\n",
      "8   Republic of Ireland             5          0\n",
      "9                Russia             6          0\n",
      "10                Spain            11          1\n",
      "11               Sweden             8          0\n",
      "12              Ukraine             6          0\n",
      "13              Croatia             9          0\n",
      "14       Czech Republic             7          0\n",
      "15              Denmark             4          0\n"
     ]
    }
   ],
   "source": [
    "# 4. Tạo DataFrame mới chứa cột 'Team', 'Yellow Cards', và 'Red Cards'\n",
    "discipline = euro12[['Team', 'Yellow Cards', 'Red Cards']]\n",
    "print(\"\\nDataFrame discipline:\")\n",
    "print(discipline)"
   ]
  },
  {
   "cell_type": "code",
   "execution_count": null,
   "metadata": {},
   "outputs": [],
   "source": [
    "# 5. Sắp xếp discipline giảm dần theo 'Red Cards' và sau đó 'Yellow Cards'\n",
    "discipline_sorted = discipline.sort_values(by=['Red Cards', 'Yellow Cards'], ascending=False)\n",
    "print(\"\\nDiscipline sắp xếp giảm dần theo Red Cards và Yellow Cards:\")\n",
    "print(discipline_sorted)"
   ]
  },
  {
   "cell_type": "code",
   "execution_count": null,
   "metadata": {},
   "outputs": [],
   "source": [
    "# 6a. Tính trung bình Yellow Cards\n",
    "yellow_cards_avg = euro12['Yellow Cards'].mean()\n",
    "print(\"\\nTrung bình số Yellow Cards:\", yellow_cards_avg)"
   ]
  },
  {
   "cell_type": "code",
   "execution_count": null,
   "metadata": {},
   "outputs": [],
   "source": [
    "# 6b. Lọc các đội đã ghi hơn 6 bàn thắng\n",
    "doi_hon_6_ban = euro12[euro12['Goals'] > 6]\n",
    "print(\"\\nCác đội ghi hơn 6 bàn thắng:\")\n",
    "print(doi_hon_6_ban)"
   ]
  },
  {
   "cell_type": "code",
   "execution_count": null,
   "metadata": {},
   "outputs": [],
   "source": [
    "# 7. In các đội mà tên bắt đầu bằng 'G'\n",
    "doi_bat_dau_G = euro12[euro12['Team'].str.startswith('G')]\n",
    "print(\"\\nCác đội có tên bắt đầu bằng 'G':\")\n",
    "print(doi_bat_dau_G['Team'])"
   ]
  },
  {
   "cell_type": "code",
   "execution_count": null,
   "metadata": {},
   "outputs": [],
   "source": [
    "# 8. In 7 cột đầu của euro12\n",
    "print(\"\\n7 cột đầu của euro12:\")\n",
    "print(euro12.iloc[:, :7])"
   ]
  },
  {
   "cell_type": "code",
   "execution_count": null,
   "metadata": {},
   "outputs": [],
   "source": [
    "# 8. In tất cả các cột, trừ 3 cột cuối\n",
    "print(\"\\nTất cả các cột trừ 3 cột cuối:\")\n",
    "print(euro12.iloc[:, :-3])"
   ]
  },
  {
   "cell_type": "code",
   "execution_count": null,
   "metadata": {},
   "outputs": [],
   "source": [
    "# 10. In các cột Team, Goals, Shooting Accuracy, Yellow Cards, Red Cards\n",
    "print(\"\\nCác cột Team, Goals, Shooting Accuracy, Yellow Cards, Red Cards:\")\n",
    "print(euro12[['Team', 'Goals', 'Shooting Accuracy', 'Yellow Cards', 'Red Cards']])"
   ]
  },
  {
   "cell_type": "code",
   "execution_count": null,
   "metadata": {},
   "outputs": [],
   "source": [
    "# 111. In các cột chỉ hiển thị 'Team', 'Shooting Accuracy' từ các đội 'England', 'Italy', 'Russia'\n",
    "doi_England_Italy_Russia = euro12[euro12['Team'].isin(['England', 'Italy', 'Russia'])]\n",
    "print(\"\\nThông tin về Team và Shooting Accuracy của England, Italy, Russia:\")\n",
    "print(doi_England_Italy_Russia[['Team', 'Shooting Accuracy']])"
   ]
  },
  {
   "cell_type": "code",
   "execution_count": null,
   "metadata": {},
   "outputs": [],
   "source": []
  }
 ],
 "metadata": {
  "kernelspec": {
   "display_name": "Python 3",
   "language": "python",
   "name": "python3"
  },
  "language_info": {
   "codemirror_mode": {
    "name": "ipython",
    "version": 3
   },
   "file_extension": ".py",
   "mimetype": "text/x-python",
   "name": "python",
   "nbconvert_exporter": "python",
   "pygments_lexer": "ipython3",
   "version": "3.12.0"
  }
 },
 "nbformat": 4,
 "nbformat_minor": 2
}
