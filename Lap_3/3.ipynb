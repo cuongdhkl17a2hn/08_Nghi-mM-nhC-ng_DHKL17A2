{
 "cells": [
  {
   "cell_type": "markdown",
   "metadata": {},
   "source": [
    "3.1"
   ]
  },
  {
   "cell_type": "code",
   "execution_count": 10,
   "metadata": {},
   "outputs": [
    {
     "name": "stdout",
     "output_type": "stream",
     "text": [
      "5 dòng đầu tiên của stocks1:\n",
      "       date symbol     open     high      low    close   volume\n",
      "0  01-03-19   AMZN  1655.13  1674.26  1651.00  1671.73  4974877\n",
      "1  04-03-19   AMZN  1685.00  1709.43  1674.36  1696.17  6167358\n",
      "2  05-03-19   AMZN  1702.95  1707.80  1689.01  1692.43  3681522\n",
      "3  06-03-19   AMZN  1695.97      NaN      NaN  1668.95  3996001\n",
      "4  07-03-19   AMZN  1667.37  1669.75  1620.51  1625.95  4957017\n",
      "\n",
      "Kiểu dữ liệu của các cột trong stocks1:\n",
      "date       object\n",
      "symbol     object\n",
      "open      float64\n",
      "high      float64\n",
      "low       float64\n",
      "close     float64\n",
      "volume      int64\n",
      "dtype: object\n",
      "\n",
      "Thông tin tổng quan về DataFrame stocks1:\n",
      "<class 'pandas.core.frame.DataFrame'>\n",
      "RangeIndex: 15 entries, 0 to 14\n",
      "Data columns (total 7 columns):\n",
      " #   Column  Non-Null Count  Dtype  \n",
      "---  ------  --------------  -----  \n",
      " 0   date    15 non-null     object \n",
      " 1   symbol  15 non-null     object \n",
      " 2   open    15 non-null     float64\n",
      " 3   high    13 non-null     float64\n",
      " 4   low     13 non-null     float64\n",
      " 5   close   15 non-null     float64\n",
      " 6   volume  15 non-null     int64  \n",
      "dtypes: float64(4), int64(1), object(2)\n",
      "memory usage: 972.0+ bytes\n",
      "None\n"
     ]
    }
   ],
   "source": [
    "import pandas as pd\n",
    "\n",
    "# Đọc dữ liệu từ file stocks1.csv\n",
    "filename_stocks1 = r'DATA_lab3_pandas\\stocks1.csv'\n",
    "stocks1 = pd.read_csv(filename_stocks1)\n",
    "\n",
    "# Hiển thị 5 dòng đầu tiên của stocks1\n",
    "print(\"5 dòng đầu tiên của stocks1:\")\n",
    "print(stocks1.head())\n",
    "\n",
    "# Hiển thị kiểu dữ liệu (dtype) của mỗi cột trong stocks1\n",
    "print(\"\\nKiểu dữ liệu của các cột trong stocks1:\")\n",
    "print(stocks1.dtypes)\n",
    "\n",
    "# Xem thông tin tổng quan về DataFrame stocks1\n",
    "print(\"\\nThông tin tổng quan về DataFrame stocks1:\")\n",
    "print(stocks1.info())"
   ]
  },
  {
   "cell_type": "markdown",
   "metadata": {},
   "source": [
    "3.2"
   ]
  },
  {
   "cell_type": "code",
   "execution_count": 11,
   "metadata": {},
   "outputs": [
    {
     "name": "stdout",
     "output_type": "stream",
     "text": [
      "\n",
      "Kiểm tra dữ liệu Null trong stocks1:\n",
      "date      0\n",
      "symbol    0\n",
      "open      0\n",
      "high      2\n",
      "low       2\n",
      "close     0\n",
      "volume    0\n",
      "dtype: int64\n",
      "\n",
      "Kiểm tra lại dữ liệu Null trong stocks1 sau khi thay thế:\n",
      "date      0\n",
      "symbol    0\n",
      "open      0\n",
      "high      0\n",
      "low       0\n",
      "close     0\n",
      "volume    0\n",
      "dtype: int64\n",
      "\n",
      "Thông tin tổng quan sau khi xử lý Null:\n",
      "<class 'pandas.core.frame.DataFrame'>\n",
      "RangeIndex: 15 entries, 0 to 14\n",
      "Data columns (total 7 columns):\n",
      " #   Column  Non-Null Count  Dtype  \n",
      "---  ------  --------------  -----  \n",
      " 0   date    15 non-null     object \n",
      " 1   symbol  15 non-null     object \n",
      " 2   open    15 non-null     float64\n",
      " 3   high    15 non-null     float64\n",
      " 4   low     15 non-null     float64\n",
      " 5   close   15 non-null     float64\n",
      " 6   volume  15 non-null     int64  \n",
      "dtypes: float64(4), int64(1), object(2)\n",
      "memory usage: 972.0+ bytes\n",
      "None\n"
     ]
    },
    {
     "name": "stderr",
     "output_type": "stream",
     "text": [
      "C:\\Users\\rigby\\AppData\\Local\\Temp\\ipykernel_19400\\917100102.py:6: FutureWarning: A value is trying to be set on a copy of a DataFrame or Series through chained assignment using an inplace method.\n",
      "The behavior will change in pandas 3.0. This inplace method will never work because the intermediate object on which we are setting values always behaves as a copy.\n",
      "\n",
      "For example, when doing 'df[col].method(value, inplace=True)', try using 'df.method({col: value}, inplace=True)' or df[col] = df[col].method(value) instead, to perform the operation inplace on the original object.\n",
      "\n",
      "\n",
      "  stocks1['high'].fillna(stocks1['high'].mean(), inplace=True)\n",
      "C:\\Users\\rigby\\AppData\\Local\\Temp\\ipykernel_19400\\917100102.py:9: FutureWarning: A value is trying to be set on a copy of a DataFrame or Series through chained assignment using an inplace method.\n",
      "The behavior will change in pandas 3.0. This inplace method will never work because the intermediate object on which we are setting values always behaves as a copy.\n",
      "\n",
      "For example, when doing 'df[col].method(value, inplace=True)', try using 'df.method({col: value}, inplace=True)' or df[col] = df[col].method(value) instead, to perform the operation inplace on the original object.\n",
      "\n",
      "\n",
      "  stocks1['low'].fillna(stocks1['low'].mean(), inplace=True)\n"
     ]
    }
   ],
   "source": [
    "# Kiểm tra dữ liệu Null trong stocks1\n",
    "print(\"\\nKiểm tra dữ liệu Null trong stocks1:\")\n",
    "print(stocks1.isnull().sum())  # Hiển thị số lượng giá trị null trong mỗi cột\n",
    "\n",
    "# Thay thế giá trị Null trong cột 'high' bằng giá trị trung bình của cột 'high'\n",
    "stocks1['high'].fillna(stocks1['high'].mean(), inplace=True)\n",
    "\n",
    "# Thay thế giá trị Null trong cột 'low' bằng giá trị trung bình của cột 'low'\n",
    "stocks1['low'].fillna(stocks1['low'].mean(), inplace=True)\n",
    "\n",
    "# Kiểm tra lại dữ liệu Null sau khi thay thế\n",
    "print(\"\\nKiểm tra lại dữ liệu Null trong stocks1 sau khi thay thế:\")\n",
    "print(stocks1.isnull().sum())\n",
    "\n",
    "# Xem lại thông tin tổng quan để xác nhận không còn dữ liệu Null\n",
    "print(\"\\nThông tin tổng quan sau khi xử lý Null:\")\n",
    "print(stocks1.info())"
   ]
  },
  {
   "cell_type": "markdown",
   "metadata": {},
   "source": [
    "3.3"
   ]
  },
  {
   "cell_type": "code",
   "execution_count": 12,
   "metadata": {},
   "outputs": [
    {
     "name": "stdout",
     "output_type": "stream",
     "text": [
      "\n",
      "5 dòng đầu tiên của kết quả tính giá trung bình theo ngày:\n",
      "             open        high         low    close\n",
      "date                                              \n",
      "01-03-19  684.770  692.528400  680.446000  688.952\n",
      "04-03-19  693.940  702.392000  685.126000  694.510\n",
      "05-03-19  695.664  656.638308  645.395077  695.558\n",
      "06-03-19  696.502  548.329468  540.373077  690.016\n",
      "07-03-19  689.460  691.478000  673.860000  677.494\n"
     ]
    }
   ],
   "source": [
    "# Đọc dữ liệu từ file stocks2.csv\n",
    "filename_stocks2 = r'DATA_lab3_pandas\\stocks2.csv'\n",
    "stocks2 = pd.read_csv(filename_stocks2)\n",
    "\n",
    "# Gộp stocks1 và stocks2 thành DataFrame mới tên là stocks\n",
    "stocks = pd.concat([stocks1, stocks2], ignore_index=True)\n",
    "\n",
    "# Tính giá trung bình (open, high, low, close) cho mỗi ngày\n",
    "avg_prices = stocks[['date', 'open', 'high', 'low', 'close']].groupby('date').mean()\n",
    "\n",
    "# Hiển thị 5 dòng đầu tiên của kết quả\n",
    "print(\"\\n5 dòng đầu tiên của kết quả tính giá trung bình theo ngày:\")\n",
    "print(avg_prices.head())"
   ]
  },
  {
   "cell_type": "markdown",
   "metadata": {},
   "source": [
    "3.4"
   ]
  },
  {
   "cell_type": "code",
   "execution_count": 13,
   "metadata": {},
   "outputs": [
    {
     "name": "stdout",
     "output_type": "stream",
     "text": [
      "name\n",
      "AAPL    690.016\n",
      "AMZN    691.731\n",
      "FB      677.494\n",
      "GOOG    695.558\n",
      "Name: close, dtype: float64\n"
     ]
    },
    {
     "name": "stderr",
     "output_type": "stream",
     "text": [
      "<>:3: SyntaxWarning: invalid escape sequence '\\c'\n",
      "<>:3: SyntaxWarning: invalid escape sequence '\\c'\n",
      "C:\\Users\\rigby\\AppData\\Local\\Temp\\ipykernel_19400\\1384860208.py:3: SyntaxWarning: invalid escape sequence '\\c'\n",
      "  companies = pd.read_csv('DATA_lab3_pandas\\companies.csv')\n"
     ]
    }
   ],
   "source": [
    "\n",
    "# Đọc file companies.csv vào DataFrame\n",
    "\n",
    "companies = pd.read_csv('DATA_lab3_pandas\\companies.csv')\n",
    "\n",
    "# Tạo DataFrame stocks từ dữ liệu cung cấp\n",
    "stocks_data = {\n",
    "    \"date\": [\"01-03-19\", \"04-03-19\", \"05-03-19\", \"06-03-19\", \"07-03-19\"],\n",
    "    \"open\": [684.770, 693.940, 695.664, 696.502, 689.460],\n",
    "    \"high\": [692.52840, 702.39200, 584.92000, 449.53395, 691.47800],\n",
    "    \"low\": [680.4460, 685.1260, 575.0500, 443.7725, 673.8600],\n",
    "    \"close\": [688.952, 694.510, 695.558, 690.016, 677.494]\n",
    "}\n",
    "stocks = pd.DataFrame(stocks_data)\n",
    "\n",
    "# Thêm cột symbol để khớp với tên công ty trong companies\n",
    "stocks['symbol'] = ['AMZN', 'AMZN', 'GOOG', 'AAPL', 'FB']\n",
    "\n",
    "# Kết hợp stocks và companies dựa trên cột 'symbol' và 'name'\n",
    "merged_data = pd.merge(stocks, companies, left_on='symbol', right_on='name')\n",
    "\n",
    "# Tính giá đóng cửa trung bình (close) cho mỗi công ty\n",
    "average_close = merged_data.groupby('name')['close'].mean()\n",
    "\n",
    "# Hiển thị kết quả cho 5 công ty đầu tiên\n",
    "print(average_close.head())\n",
    "\n",
    "\n",
    "\n",
    "\n"
   ]
  },
  {
   "cell_type": "markdown",
   "metadata": {},
   "source": [
    "3.5"
   ]
  },
  {
   "cell_type": "code",
   "execution_count": 14,
   "metadata": {},
   "outputs": [
    {
     "name": "stdout",
     "output_type": "stream",
     "text": [
      "                    open       high       low    close   volume\n",
      "date     symbol                                                \n",
      "01-03-19 AMZN    684.770  692.52840  680.4460  688.952  12000.0\n",
      "04-03-19 AMZN    693.940  702.39200  685.1260  694.510  14000.0\n",
      "05-03-19 GOOG    695.664  584.92000  575.0500  695.558  13000.0\n",
      "06-03-19 AAPL    696.502  449.53395  443.7725  690.016  15000.0\n",
      "07-03-19 FB      689.460  691.47800  673.8600  677.494  16000.0\n"
     ]
    }
   ],
   "source": [
    "\n",
    "\n",
    "# Dữ liệu cho DataFrame stocks\n",
    "stocks_data = {\n",
    "    \"date\": [\"01-03-19\", \"04-03-19\", \"05-03-19\", \"06-03-19\", \"07-03-19\"],\n",
    "    \"open\": [684.770, 693.940, 695.664, 696.502, 689.460],\n",
    "    \"high\": [692.52840, 702.39200, 584.92000, 449.53395, 691.47800],\n",
    "    \"low\": [680.4460, 685.1260, 575.0500, 443.7725, 673.8600],\n",
    "    \"close\": [688.952, 694.510, 695.558, 690.016, 677.494],\n",
    "    \"volume\": [12000, 14000, 13000, 15000, 16000]\n",
    "}\n",
    "stocks = pd.DataFrame(stocks_data)\n",
    "\n",
    "# Thêm cột symbol để khớp với tên công ty\n",
    "stocks['symbol'] = ['AMZN', 'AMZN', 'GOOG', 'AAPL', 'FB']\n",
    "\n",
    "# 1. Tạo MultiIndex cho DataFrame stocks bằng cột date và symbol\n",
    "stocks.set_index(['date', 'symbol'], inplace=True)\n",
    "\n",
    "# 2. Sử dụng GroupBy để tính giá trung bình (open, high, low, close) và volume\n",
    "grouped_stocks = stocks.groupby(['date', 'symbol']).mean()\n",
    "\n",
    "# 3. Sắp xếp dữ liệu theo ngày và mã chứng khoán\n",
    "sorted_stocks = grouped_stocks.sort_index()\n",
    "\n",
    "# 4. Hiển thị kết quả cho 5 ngày đầu tiên\n",
    "print(sorted_stocks.head())"
   ]
  },
  {
   "cell_type": "markdown",
   "metadata": {},
   "source": [
    "3.6"
   ]
  },
  {
   "cell_type": "code",
   "execution_count": 15,
   "metadata": {},
   "outputs": [
    {
     "name": "stdout",
     "output_type": "stream",
     "text": [
      "symbol           AMZN       FB     AAPL     GOOG\n",
      "date                                            \n",
      "Total Volume  26000.0  16000.0  15000.0  13000.0\n"
     ]
    }
   ],
   "source": [
    "\n",
    "# Dữ liệu cho DataFrame stocks\n",
    "stocks_data = {\n",
    "    \"date\": [\"01-03-19\", \"04-03-19\", \"05-03-19\", \"06-03-19\", \"07-03-19\"],\n",
    "    \"open\": [684.770, 693.940, 695.664, 696.502, 689.460],\n",
    "    \"high\": [692.52840, 702.39200, 584.92000, 449.53395, 691.47800],\n",
    "    \"low\": [680.4460, 685.1260, 575.0500, 443.7725, 673.8600],\n",
    "    \"close\": [688.952, 694.510, 695.558, 690.016, 677.494],\n",
    "    \"volume\": [12000, 14000, 13000, 15000, 16000]\n",
    "}\n",
    "stocks = pd.DataFrame(stocks_data)\n",
    "\n",
    "# Thêm cột symbol để khớp với tên công ty\n",
    "stocks['symbol'] = ['AMZN', 'AMZN', 'GOOG', 'AAPL', 'FB']\n",
    "\n",
    "# 1. Tạo Pivot Table với date làm chỉ mục, symbol làm cột, và giá trị trung bình của close\n",
    "pivot_table = stocks.pivot_table(values='close', index='date', columns='symbol', aggfunc='mean')\n",
    "\n",
    "# 2. Thêm cột tính tổng volume giao dịch cho mỗi mã chứng khoán (symbol)\n",
    "total_volume = stocks.groupby('symbol')['volume'].sum()\n",
    "pivot_table.loc['Total Volume'] = total_volume\n",
    "\n",
    "# 3. Sắp xếp Pivot Table dựa trên tổng volume giao dịch, từ cao xuống thấp\n",
    "sorted_symbols = total_volume.sort_values(ascending=False)\n",
    "sorted_pivot_table = pivot_table[sorted_symbols.index]\n",
    "\n",
    "# 4. Hiển thị kết quả cho 5 mã chứng khoán có tổng volume giao dịch cao nhất\n",
    "result = sorted_pivot_table.loc[['Total Volume']]\n",
    "print(result)"
   ]
  }
 ],
 "metadata": {
  "kernelspec": {
   "display_name": "Python 3",
   "language": "python",
   "name": "python3"
  },
  "language_info": {
   "codemirror_mode": {
    "name": "ipython",
    "version": 3
   },
   "file_extension": ".py",
   "mimetype": "text/x-python",
   "name": "python",
   "nbconvert_exporter": "python",
   "pygments_lexer": "ipython3",
   "version": "3.12.0"
  }
 },
 "nbformat": 4,
 "nbformat_minor": 2
}
